{
 "cells": [
  {
   "cell_type": "code",
   "execution_count": 4,
   "metadata": {},
   "outputs": [
    {
     "name": "stdout",
     "output_type": "stream",
     "text": [
      "The autoreload extension is already loaded. To reload it, use:\n",
      "  %reload_ext autoreload\n"
     ]
    }
   ],
   "source": [
    "%load_ext autoreload\n",
    "%autoreload 2"
   ]
  },
  {
   "cell_type": "markdown",
   "metadata": {},
   "source": [
    "# Using Visibility Graphs to Estimate the Hurst Parameter "
   ]
  },
  {
   "cell_type": "code",
   "execution_count": 10,
   "metadata": {},
   "outputs": [],
   "source": [
    "# dict for formatting in references \n",
    "# todo copy/paste these into cells\n",
    "refs = {'lacasa2009':'[Lacasa et al. 2009](https://www.readcube.com/library/ee993268-97d7-4f91-b728-eb1b1ac33f55:f660b4a6-9d04-463a-a31a-dd4a196baeae)'}"
   ]
  },
  {
   "cell_type": "markdown",
   "metadata": {
    "variables": {
     "refs['lacasa2009']": "<a href=\"https://www.readcube.com/library/ee993268-97d7-4f91-b728-eb1b1ac33f55:f660b4a6-9d04-463a-a31a-dd4a196baeae\">Lacasa et al. 2009</a>"
    }
   },
   "source": [
    "In this notebook, we have been introduced to the visibility graph and how such graphs can translate a time series into a network. Also, we have introduced the concept of long memory in time series and how this property can be measured with the Hurst parameter $H$. We have also used the `fbm` codebase to generate time series with different values of $H$. \n",
    "\n",
    "In {{refs['lacasa2009']}}, the authors introduce that visibility graphs can be used to esimate the Hurst parameter. In this section, we will replicate these results in Python.\n",
    "\n",
    "The {{refs['lacasa2009']}} paper shows that the degree distribution of a visibility graph follows a power law, and that the exponent of the degree distribution approximates the Hurst parameter. \n",
    "\n",
    "To begin to explore this idea, we can generate FBM series that have different Hurst parameters and plot histograms of the corresponding visibility graphs. We'll use the same `fbm` project introduced earlier, the `build_visibility_graph` module and we will use `networkx` to create graph objects:"
   ]
  },
  {
   "cell_type": "code",
   "execution_count": 12,
   "metadata": {},
   "outputs": [],
   "source": [
    "from src.fbm.fbm import FBM\n",
    "from src import build_visibility_graph \n",
    "import networkx as nx"
   ]
  },
  {
   "cell_type": "markdown",
   "metadata": {},
   "source": [
    "Now, we can generate three different FBM series with Hurst parameters 0.25, 0.5 and 0.75:"
   ]
  },
  {
   "cell_type": "code",
   "execution_count": 38,
   "metadata": {},
   "outputs": [
    {
     "name": "stdout",
     "output_type": "stream",
     "text": [
      "CPU times: user 31.7 s, sys: 7.97 ms, total: 31.7 s\n",
      "Wall time: 31.7 s\n"
     ]
    }
   ],
   "source": [
    "%%time\n",
    "graphs = dict()\n",
    "n = 1000\n",
    "\n",
    "for hurst in [0.25, 0.5, 0.75]:\n",
    "    y = FBM(n=n, hurst=hurst, length=1, method='daviesharte').fbm()\n",
    "    x = list(range(len(y)))\n",
    "    edges = build_visibility_graph.create_edges(x, y)\n",
    "    graphs[hurst] = nx.from_edgelist(edges)"
   ]
  },
  {
   "cell_type": "markdown",
   "metadata": {},
   "source": [
    "Now we have a dict `graphs` with keys that are Hurst parameters and values that are time series with the same Hurst parameter. \n",
    "\n",
    "We now build a similar dictionary `degs`, where the values are instead arrays of node degrees:"
   ]
  },
  {
   "cell_type": "code",
   "execution_count": 39,
   "metadata": {},
   "outputs": [],
   "source": [
    "get_degs = lambda g: [g.degree(x) for x in g.nodes]\n",
    "degs = {k:get_degs(v) for k,v in graphs.items()}"
   ]
  },
  {
   "cell_type": "markdown",
   "metadata": {},
   "source": [
    "...and create a simple histogram:"
   ]
  },
  {
   "cell_type": "code",
   "execution_count": 69,
   "metadata": {},
   "outputs": [
    {
     "data": {
      "image/png": "[encoded data removed]",
      "text/plain": [
       "<Figure size 864x360 with 1 Axes>"
      ]
     },
     "metadata": {
      "needs_background": "light"
     },
     "output_type": "display_data"
    }
   ],
   "source": [
    "from matplotlib import pyplot as plt\n",
    "fig = plt.figure(figsize=(12,5))\n",
    "ax = fig.add_subplot(111)\n",
    "\n",
    "bins = np.linspace(0,140,28)\n",
    "ax.hist([degs[x] for x in degs.keys()], bins, label=list(degs.keys()))\n",
    "t = 'Histogram of Node Degree for Visibility Graphs by Hurst Parameter H'\n",
    "ax.set(title=t, xlabel='Node Degree', ylabel='Number of Nodes')\n",
    "ax.legend()\n",
    "ax.grid()"
   ]
  }
 ],
 "metadata": {
  "kernelspec": {
   "display_name": "Python 3",
   "language": "python",
   "name": "python3"
  },
  "language_info": {
   "codemirror_mode": {
    "name": "ipython",
    "version": 3
   },
   "file_extension": ".py",
   "mimetype": "text/x-python",
   "name": "python",
   "nbconvert_exporter": "python",
   "pygments_lexer": "ipython3",
   "version": "3.8.2"
  },
  "toc": {
   "base_numbering": 1,
   "nav_menu": {},
   "number_sections": true,
   "sideBar": true,
   "skip_h1_title": false,
   "title_cell": "Table of Contents",
   "title_sidebar": "Contents",
   "toc_cell": false,
   "toc_position": {},
   "toc_section_display": true,
   "toc_window_display": false
  }
 },
 "nbformat": 4,
 "nbformat_minor": 4
}
