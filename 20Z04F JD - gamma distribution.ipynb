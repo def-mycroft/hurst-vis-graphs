{
 "cells": [
  {
   "cell_type": "markdown",
   "metadata": {},
   "source": [
    "I made this while working on the math876 final project. I had thought that I needed the gamma distribution, but instead needed the gamma function. \n",
    "\n",
    "should check the code, but should be close to a way to explore th gamma distribution."
   ]
  },
  {
   "cell_type": "code",
   "execution_count": 1,
   "metadata": {},
   "outputs": [],
   "source": [
    "from src import helpers \n",
    "import ipywidgets as widgets\n",
    "from ipywidgets import interact, interact_manual\n",
    "from warnings import warn"
   ]
  },
  {
   "cell_type": "code",
   "execution_count": 6,
   "metadata": {},
   "outputs": [
    {
     "data": {
      "application/vnd.jupyter.widget-view+json": {
       "model_id": "6899019f229c403aa55d1115aa7326a1",
       "version_major": 2,
       "version_minor": 0
      },
      "text/plain": [
       "interactive(children=(FloatSlider(value=1.0, description='shape1', max=3.15, min=0.1), FloatSlider(value=1.0, …"
      ]
     },
     "metadata": {},
     "output_type": "display_data"
    }
   ],
   "source": [
    "from scipy.stats import gamma\n",
    "import pandas as pd\n",
    "from scipy.stats import gaussian_kde as kde\n",
    "import numpy as np\n",
    "from matplotlib import pyplot as plt\n",
    "\n",
    "@interact(\n",
    "    shape1=(0.1,3.15), \n",
    "    shape2=(0.1,3.15), \n",
    "    l1=(0.05, 0.95), \n",
    "    l2=(0.05, 0.95), \n",
    "    n=(100,int(1e5),100)\n",
    ")\n",
    "def gammaplot(shape1=1, shape2=1, l1=0.5, l2=0.5, n=1000):\n",
    "    def p(shape, l, n, color='blue'):\n",
    "        lab = lambda shape, l : f'shape={shape:.2f} loc={l:.2f}'\n",
    "        d = pd.DataFrame({'y':gamma.rvs(shape, loc=l, size=int(n))})\n",
    "        d['y'].plot(kind='density', figsize=(10,5), grid=True, color=color,\n",
    "                    label=lab(shape, l))\n",
    "        plt.title('title')\n",
    "        plt.legend()\n",
    "    p(shape1, l1, n)\n",
    "    p(shape2, l2, n, color='red')"
   ]
  }
 ],
 "metadata": {
  "kernelspec": {
   "display_name": "Python 3",
   "language": "python",
   "name": "python3"
  },
  "language_info": {
   "codemirror_mode": {
    "name": "ipython",
    "version": 3
   },
   "file_extension": ".py",
   "mimetype": "text/x-python",
   "name": "python",
   "nbconvert_exporter": "python",
   "pygments_lexer": "ipython3",
   "version": "3.8.2"
  },
  "toc": {
   "base_numbering": 1,
   "nav_menu": {},
   "number_sections": true,
   "sideBar": true,
   "skip_h1_title": false,
   "title_cell": "Table of Contents",
   "title_sidebar": "Contents",
   "toc_cell": false,
   "toc_position": {},
   "toc_section_display": true,
   "toc_window_display": false
  }
 },
 "nbformat": 4,
 "nbformat_minor": 4
}
