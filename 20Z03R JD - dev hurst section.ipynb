{
 "cells": [
  {
   "cell_type": "markdown",
   "metadata": {},
   "source": [
    "# Fractional Brownian Motion and the Hurst Parameter"
   ]
  },
  {
   "cell_type": "code",
   "execution_count": 60,
   "metadata": {},
   "outputs": [
    {
     "data": {
      "application/vnd.jupyter.widget-view+json": {
       "model_id": "0aac0706bec84edba863489b7366d759",
       "version_major": 2,
       "version_minor": 0
      },
      "text/plain": [
       "interactive(children=(Text(value='0.5', description='h1'), Text(value='0.75', description='h2'), Text(value='0…"
      ]
     },
     "metadata": {},
     "output_type": "display_data"
    }
   ],
   "source": [
    "from src import helpers \n",
    "import ipywidgets as widgets\n",
    "from ipywidgets import interact, interact_manual\n",
    "from warnings import warn\n",
    "interact_hurst = lambda button_lab : interact.options(manual=True, \n",
    "                                                      manual_name=button_lab)\n",
    "\n",
    "@interact_hurst('Calculate')\n",
    "def interactive_fbm_plot(h1='0.5', h2='0.75', h3='0.25'):\n",
    "    if any([x == '' for x in (h1, h2, h3)]):\n",
    "        helpers.plot_fbm_examples()\n",
    "    else:\n",
    "        try:\n",
    "            p = []\n",
    "            for x in (h1, h2, h3):\n",
    "                p.append(float(x))\n",
    "            p = tuple(p)\n",
    "        except Exception as e:\n",
    "            msg = (f'Error when trying to convert hurst params to float, '\n",
    "                   f'is it numeric? Received \"{(h1, h2, h3)}\".') \n",
    "            warn(msg)\n",
    "            raise Exception(msg)\n",
    "        if any([x <= 0 or x >= 1 for x in p]):\n",
    "            msg = f'Hurst params must be in [0, 1], received \"{p}\".'\n",
    "            warn(msg)\n",
    "            raise Exception(msg)\n",
    "        helpers.plot_fbm_examples(*p)"
   ]
  },
  {
   "cell_type": "code",
   "execution_count": null,
   "metadata": {},
   "outputs": [],
   "source": []
  },
  {
   "cell_type": "code",
   "execution_count": null,
   "metadata": {},
   "outputs": [],
   "source": []
  },
  {
   "cell_type": "code",
   "execution_count": null,
   "metadata": {},
   "outputs": [],
   "source": []
  }
 ],
 "metadata": {
  "kernelspec": {
   "display_name": "Python 3",
   "language": "python",
   "name": "python3"
  },
  "language_info": {
   "codemirror_mode": {
    "name": "ipython",
    "version": 3
   },
   "file_extension": ".py",
   "mimetype": "text/x-python",
   "name": "python",
   "nbconvert_exporter": "python",
   "pygments_lexer": "ipython3",
   "version": "3.8.2"
  },
  "toc": {
   "base_numbering": 1,
   "nav_menu": {},
   "number_sections": true,
   "sideBar": true,
   "skip_h1_title": false,
   "title_cell": "Table of Contents",
   "title_sidebar": "Contents",
   "toc_cell": false,
   "toc_position": {},
   "toc_section_display": true,
   "toc_window_display": false
  }
 },
 "nbformat": 4,
 "nbformat_minor": 4
}
