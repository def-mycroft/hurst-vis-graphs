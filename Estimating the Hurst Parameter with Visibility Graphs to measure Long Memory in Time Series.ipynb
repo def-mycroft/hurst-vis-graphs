{
 "cells": [
  {
   "cell_type": "markdown",
   "metadata": {},
   "source": [
    "# Final Project: Estimating the Hurst Parameter with Visibility Graphs to measure Long Memory in Time Series\n",
    "\n",
    "**Author**: Joseph Dasenbrock\n",
    "\n",
    "**Abstract**\n",
    "\n",
    "Time series analysis is dominated by the class of ARMA models, which model future values of the series as function of recent past values of the series. While these models have been successful in application, ARMA models have limitations founded in the assumptions being made about the nature of the underlying process. Time series analysis based on graphs (i.e. networks) offer potential for modeling which makes less strict assumptions, and opens up time series analysis to the rich mathematical toolset available to networks. The visibility graph is introduced and explored as one way to model a time series as a network. To exemplify the utility of such a model, the visibility graph is applied to the analysis of long memory in time series. A time series which possesses long memory is one which is significantly dependent on the entiriety of the history of the series, not just the most recent values. Long memory is introduced and visibility graphs are utilized to estimate the Hurst parameter and differentiate between simulated time series which exhibit long memory and series that do not exhibit such as property."
   ]
  },
  {
   "cell_type": "markdown",
   "metadata": {},
   "source": [
    "# Introduction\n",
    "\n"
   ]
  },
  {
   "cell_type": "markdown",
   "metadata": {},
   "source": [
    "Among the most common tools for time series analysis is the AutoRegressive Moving Average model (ARMA). This class of models treats a time series as random process where future values are dependent on some small number of recent values of the series itself plus some number of recent values of the \"white noise\" in the time series. There are many different forms and variants of such models, however below is one common form ([1]): \n",
    "\n",
    "$$\n",
    "\\def \\a {\\alpha}\n",
    "r_t = \\phi_0 + \\sum_{i=1}^{p} \\phi_i r_{t-i} + \\a_{t} - \\sum_{i=1}^{q}\\theta_i \\a_{t-i}\n",
    "$$\n",
    "\n",
    "...where $p$ and $q$ are nonnegative integers, $r_i$ is the time series, and $\\{\\alpha_i\\}$ is a white noise series derived from the time series.\n",
    "\n",
    "To explain the above equation in words, the current value $r_t$ of the series is a function of a set of weights $\\phi$, the most recent values of the series itself $r$, another set of weights $\\theta$, and the most recent values of the white noise series $\\alpha$.\n",
    "\n",
    "While the ARMA class of models have been successfully used across many domains, these models have important limitations.\n",
    "\n",
    "One of the most notable such limitations is the requirement that the modeled time series is stationary, i.e. the mean value of the series is the same over time. Clearly, real-world processes often do not have such a characteristic; any sampling of real-world time series can verify this (e.g. weekly rainfall totals, financial time series or bird population levels by geography are all time series not likely to exhibit stationarity). \n",
    "\n",
    "Often, time series can be converted to a stationary series with relatively simple adjustments, such as modeling the difference between the series and a choice of a trend model, or by modeling the period-to-period change in the series instead of the series itself. However, these adjustments can become onerous in implementation and are sometimes insufficient. For example, the level of deviation from the trend or the period-to-period differences can also fail to be stationary. \n",
    "\n",
    "Fundamental to such problems and others not mentioned here is that the ARMA model makes an assumption about the underlying nature of the time series process, i.e. that the future values of the series are determined by the most recent $p$ values of the series and the most recent $q$ values of the white noise process that is derived from the series. \n",
    "\n",
    "The ARMA model makes a possibly incorrect assumption about the underlying process, and it also offers little utility beyond merely forecasting future values of the series. There does not exist a rich set of properties of a time series that can be estimated utilizing the ARMA model, ARMA merely models the relationship between recent values of the series and the next value.\n",
    "\n",
    "Translation of a time series into a graph (network) would offer advantages over the ARMA model as described here - a network would likely capture more of the idiosyncratic features of the data itself, instead of attempting to force the data into a certain framework. Also, translation of the series to a graph would make available the rich mathematical toolset available to graphs, and therefore more useful information could be extracted from the data. "
   ]
  },
  {
   "cell_type": "markdown",
   "metadata": {},
   "source": [
    "# Visibility Graphs\n",
    "\n"
   ]
  },
  {
   "cell_type": "markdown",
   "metadata": {},
   "source": [
    "One such method of translating a time series into a network is a \"visibility graph\", which will be explored in this notebook. Lacasa et al 2008 ([6], [link][1]) provides a useful introduction to the visibility graph. In this section, the example given in the Lacasa paper will be implemented in code and the results will be demonstrated. \n",
    "\n",
    "[1]:https://dx.doi.org/10.1073/pnas.0709247105"
   ]
  },
  {
   "cell_type": "markdown",
   "metadata": {},
   "source": [
    "Borrowing from first page of the the Lacasa paper, a visibility graph is a graph created from a time series where two values of the time series are connected if there is \"visibility\" between them. Conceptually, this means that two points are connected if one can be seen from the other without obstruction from some middle value of the time series. \n",
    "\n",
    "Mathematically, two points of the time series $(t_a, y_a)$, $(t_b, y_b)$ are connected in the visibility graph if, for any other data point $(t_c, y_c)$, there is: \n",
    "\n",
    "$$\n",
    "y_c < + \\left( y_a - y_b \\right)\\frac{t_b-t_c}{t_b-t_a} \\qquad\\textbf{(1)}\n",
    "$$\n",
    "\n",
    "...which corresponds to equation $\\textbf{(1)}$ in Lacasa 2008. "
   ]
  },
  {
   "cell_type": "markdown",
   "metadata": {},
   "source": [
    "Now, we will replicate the simple time series presented in the first page of Lacasa 2008, using a python module that has been written by the author.\n",
    "\n",
    "We will use `numpy` and `matplotlib`:"
   ]
  },
  {
   "cell_type": "code",
   "execution_count": 1,
   "metadata": {},
   "outputs": [],
   "source": [
    "import numpy as np\n",
    "from matplotlib import pyplot as plt"
   ]
  },
  {
   "cell_type": "markdown",
   "metadata": {},
   "source": [
    "...and the time series from Lacasa 2008 is created below:"
   ]
  },
  {
   "cell_type": "code",
   "execution_count": 2,
   "metadata": {},
   "outputs": [],
   "source": [
    "# create data from lacasa paper\n",
    "y = [87,49,36,83,]*5\n",
    "y = np.array([x/100 for x in y]) \n",
    "n = len(y)\n",
    "x = np.array(range(n)) "
   ]
  },
  {
   "cell_type": "markdown",
   "metadata": {},
   "source": [
    "...along with a plot:"
   ]
  },
  {
   "cell_type": "code",
   "execution_count": 3,
   "metadata": {},
   "outputs": [
    {
     "data": {
      "image/png": "[encoded data removed]",
      "text/plain": [
       "<Figure size 864x288 with 1 Axes>"
      ]
     },
     "metadata": {
      "needs_background": "light"
     },
     "output_type": "display_data"
    }
   ],
   "source": [
    "# import helper function used to create graph\n",
    "from src import helpers \n",
    "fig = helpers.intro_plot(x, y)"
   ]
  },
  {
   "cell_type": "markdown",
   "metadata": {},
   "source": [
    "Now, the custom module `build_visibility_graph` is loaded and aliased as `create_graph`. \n",
    "\n",
    "The function `create_edges` is used to create edges from `x` and `y`. This is accomplished by applying the inequality $\\textbf{(1)}$ across every pair of points in the time series, i.e. the inequality is applied for every $(x_i, y_i)$, $(x_j, y_j)$ and for every $(x_c, y_c)$ between. If at any point the inequality fails to hold, no edge is created and the next pair is evaluated. \n",
    "\n",
    "The code can be viewed by [clicking on this link](src/build_visibility_graph.py), and the docstrings can be viewed by running the below cells:"
   ]
  },
  {
   "cell_type": "code",
   "execution_count": 4,
   "metadata": {},
   "outputs": [],
   "source": [
    "from src import build_visibility_graph as create_graph "
   ]
  },
  {
   "cell_type": "code",
   "execution_count": 5,
   "metadata": {},
   "outputs": [],
   "source": [
    "# todo - uncomment these lines before submission\n",
    "#?create_graph.create_edges"
   ]
  },
  {
   "cell_type": "code",
   "execution_count": 6,
   "metadata": {},
   "outputs": [],
   "source": [
    "#?create_graph.points_connected"
   ]
  },
  {
   "cell_type": "code",
   "execution_count": 7,
   "metadata": {},
   "outputs": [],
   "source": [
    "# inequality (1)\n",
    "#?create_graph.connectedness_criteria_mid"
   ]
  },
  {
   "cell_type": "markdown",
   "metadata": {},
   "source": [
    "Now we create the edges using the module and then graph the result:"
   ]
  },
  {
   "cell_type": "code",
   "execution_count": 8,
   "metadata": {},
   "outputs": [
    {
     "data": {
      "image/png": "[encoded data removed]",
      "text/plain": [
       "<Figure size 864x288 with 1 Axes>"
      ]
     },
     "metadata": {
      "needs_background": "light"
     },
     "output_type": "display_data"
    }
   ],
   "source": [
    "# create edges for network \n",
    "edges = create_graph.create_edges(x, y)\n",
    "\n",
    "# plot the series with the edges\n",
    "fig = helpers.intro_plot(x, y, edges=edges)"
   ]
  },
  {
   "cell_type": "markdown",
   "metadata": {},
   "source": [
    "As discussed previously in this document, a potentially useful property of a visibility graph is that the resulting graph is invariant to scale, i.e. the time series scaled by a factor yields the same visibility graph.\n",
    "\n",
    "This can be demonstrated by multiplying the $y$ value of the series and multiplying it by a factor, and then comparing the scaled version of the graph with the original. \n",
    "\n",
    "First, we record the original set of edges as `EDGES_BASE`:"
   ]
  },
  {
   "cell_type": "code",
   "execution_count": 9,
   "metadata": {},
   "outputs": [],
   "source": [
    "# record the base edges \n",
    "EDGES_BASE = list(edges)"
   ]
  },
  {
   "cell_type": "markdown",
   "metadata": {},
   "source": [
    "...and then compare `EDGES_BASE` with edges created from a scaled version of the graph:"
   ]
  },
  {
   "cell_type": "code",
   "execution_count": 10,
   "metadata": {},
   "outputs": [],
   "source": [
    "def plot_adjusted(x, y, scale, plot=True, assertion=True):\n",
    "    \"\"\"Scales the input data by factor `scale`, compares to original\n",
    "    \n",
    "    Creates a barplot similar to previous plot, asserts that edges are \n",
    "    the same as EDGES_BASE (i.e. will raise error if not\n",
    "    exactly the same).\n",
    "    \n",
    "    \"\"\"\n",
    "    global EDGES_BASE\n",
    "    # multiply every value in y by the scalar\n",
    "    y_adj = [i*scale for i in y]\n",
    "    # create the visibility graph from the scaled edges\n",
    "    edg = create_graph.create_edges(x, y_adj)\n",
    "    \n",
    "    # check that the outcome is the same as EDGES_BASE, if not raise an error\n",
    "    f = lambda x: list(sorted(x))\n",
    "    if assertion:\n",
    "        msg = (f'Edge sets should be the same, scale={scale}. Expected '\n",
    "               f'edges {EDGES_BASE}, calculated {edg}')\n",
    "        assert f(edg) == f(EDGES_BASE), msg\n",
    "    \n",
    "    # plot the new graph\n",
    "    if plot:\n",
    "        fig = helpers.intro_plot(x, y_adj, edges=edg)"
   ]
  },
  {
   "cell_type": "markdown",
   "metadata": {},
   "source": [
    "Using function `plot_adjusted`, we can scale the data by different scalars by passing different arguments. \n",
    "\n",
    "We scale by a factor of $2$ below:"
   ]
  },
  {
   "cell_type": "code",
   "execution_count": 11,
   "metadata": {},
   "outputs": [
    {
     "data": {
      "image/png": "[encoded data removed]",
      "text/plain": [
       "<Figure size 864x288 with 1 Axes>"
      ]
     },
     "metadata": {
      "needs_background": "light"
     },
     "output_type": "display_data"
    }
   ],
   "source": [
    "plot_adjusted(x, y, 2)"
   ]
  },
  {
   "cell_type": "markdown",
   "metadata": {},
   "source": [
    "...and we can see that the $y$ values doubled, and the function completed without raising an `AssertionError`, therefore the visibility graphs are the same. \n",
    "\n",
    "We can also test a larger number of graphs (skipping the plot this time):"
   ]
  },
  {
   "cell_type": "code",
   "execution_count": 12,
   "metadata": {},
   "outputs": [],
   "source": [
    "for sc in np.linspace(2, 1000, 25):\n",
    "        plot_adjusted(x, y, sc, plot=False)\n",
    "\n",
    "for sc in np.linspace(0.01, 1, 25):\n",
    "        plot_adjusted(x, y, sc, plot=False)"
   ]
  },
  {
   "cell_type": "markdown",
   "metadata": {},
   "source": [
    "Below is a simple widget that allows for inputting different scale values and immediately seeing the results."
   ]
  },
  {
   "cell_type": "code",
   "execution_count": 13,
   "metadata": {},
   "outputs": [],
   "source": [
    "import ipywidgets as widgets\n",
    "from ipywidgets import interact, interact_manual\n",
    "from warnings import warn"
   ]
  },
  {
   "cell_type": "code",
   "execution_count": 14,
   "metadata": {},
   "outputs": [
    {
     "data": {
      "application/vnd.jupyter.widget-view+json": {
       "model_id": "2fa2650536ed48398f7efd07663560f3",
       "version_major": 2,
       "version_minor": 0
      },
      "text/plain": [
       "interactive(children=(Text(value='1e6', description='scale'), Output()), _dom_classes=('widget-interact',))"
      ]
     },
     "metadata": {},
     "output_type": "display_data"
    }
   ],
   "source": [
    "@interact\n",
    "def adjusted_plot_interactive(scale='1e6'):\n",
    "    global x\n",
    "    global y\n",
    "    if scale == '':\n",
    "        return plot_adjusted(x, y, 1)\n",
    "    else:\n",
    "        try:\n",
    "            scale = float(scale)\n",
    "        except Exception as e:\n",
    "            msg = (f'Error when trying to convert \"scale\" to float, '\n",
    "                   f'is it numeric? Received \"{scale}\".') \n",
    "            warn(msg)\n",
    "            raise Exception(msg)\n",
    "        if not float(scale) > 0:\n",
    "            msg = f'Scale must be greater than 0, received \"{scale}\".'\n",
    "            warn(msg)\n",
    "            raise Exception(msg)\n",
    "            \n",
    "        return plot_adjusted(x, y, float(scale))"
   ]
  },
  {
   "cell_type": "markdown",
   "metadata": {},
   "source": [
    "Different scalars can be used by changing the value in the textbox \"scale\" (values update automatically). "
   ]
  },
  {
   "cell_type": "markdown",
   "metadata": {},
   "source": [
    "# Fractional Brownian Motion and the Hurst Parameter\n",
    "\n",
    "In this section, we will showcase one potential application of visibility graphs, related to Fractional Brownian Motion and the Hurst parameter. The Hurst parameter quantifies the level of *long-range dependence* in a time series. \n",
    "\n",
    "A time series is one which exhibits a \"non-negligible dependence between the present and all points in the past.\" ([Graves et al, 2017](https://www.readcube.com/library/ee993268-97d7-4f91-b728-eb1b1ac33f55:16c9b3e2-d8ac-477d-bb46-a230bf7b3368)). An early observation of this type of process in nature was made by a civil engineer named Harold Edwin Hurst, who was tasked with the design of dams for water control in the Nile basin for the Egyptian government in the first part of the 20th century ([Graves et al, 2017](https://www.readcube.com/library/ee993268-97d7-4f91-b728-eb1b1ac33f55:16c9b3e2-d8ac-477d-bb46-a230bf7b3368)). \n",
    "\n",
    "Hurst found the importance of long memory when studying the optimal reservoir capacity for a man-made reservoir, which is equivalent to choosing the height of the dam that creates the reservoir. The ideal height of a dam is a height that achieves the minimum water capacity so that the reservoir has stable outflow and level. Prior to Hurst, a simulation approach using independent Gaussian processes had been among the best solutions to this dam height problem ([Graves et al, 2017](https://www.readcube.com/library/ee993268-97d7-4f91-b728-eb1b1ac33f55:16c9b3e2-d8ac-477d-bb46-a230bf7b3368)).\n",
    "\n",
    "Hurst was able to show that independent Gaussian processes used in models at the time did not adquately explain a large amount of empirical hydrological data, and suggested that the assumption that the process is Gaussian-independent was incorrect ([Graves et al, 2017](https://www.readcube.com/library/ee993268-97d7-4f91-b728-eb1b1ac33f55:16c9b3e2-d8ac-477d-bb46-a230bf7b3368)).\n",
    "\n",
    "While Hurst is widely credited with an early observation of long-range dependence, Mandelbrot played a larger role in utilizing and developing the concept. In a 1968 paper, Mandelbrot proposed *Fractional Brownian Motion*, which is related to both Hurst's hydrological model and to Brownian Motion, which was gaining attention in the literature on financial prices at the time ([Graves et al, 2017](https://www.readcube.com/library/ee993268-97d7-4f91-b728-eb1b1ac33f55:16c9b3e2-d8ac-477d-bb46-a230bf7b3368), [Mandelbrot & Ness, 1968](https://www.readcube.com/library/ee993268-97d7-4f91-b728-eb1b1ac33f55:7fea8485-93e4-452f-bd5e-1016c2ce08f3), [Bachelier, 1900](https://dx.doi.org/10.24033/asens.476)). "
   ]
  },
  {
   "cell_type": "markdown",
   "metadata": {},
   "source": [
    "Fractional Brownian Motion was defined as follows in the 1968 paper:\n",
    "\n",
    ">**Fractional Brownian Motion** ([Mandelbrot & Ness, 1968](https://www.readcube.com/library/ee993268-97d7-4f91-b728-eb1b1ac33f55:7fea8485-93e4-452f-bd5e-1016c2ce08f3)). Let $H$ be a number such that $0<H<$, and let $b_0$ be a real number. The function $\\bh(t, \\w)$ is called *reduced fractional Brownian motion* with parameter $H$ and starting value $b_0$ at time $0$. For $t>0$, $\\bh(t, \\w)$ is defined by $\\bh (0, \\w) = b_0$, and:\n",
    ">\n",
    ">$$\n",
    "\\def \\fbminta {\\int_{-\\inf}^{0} \\left[ (t-s)^{H-1/2} - (-s)^{H-1/2} \\right]\\, dB(s, \\w)}\\def \\fbmintb {\\int_{0}^{t} (t-s)^{H-1/2}\\, dB(s, \\w)}\\def \\fbmintao {\\int_{-\\inf}^{0} \\left[ (t-s) - (-s) \\right]\\, dB(s, \\w)}\\def \\fbmintbo {\\int_{0}^{t} (t-s)\\, dB(s, \\w)}\\def \\bh {B_{H}}\\def \\w { \\omega}\\def \\inf {\\infty}\\def \\gm {\\Gamma}\n",
    "\\begin{align}\n",
    "%\\bh (0, \\w) &= b_0 \\\\\n",
    "\\bh(t, \\w) - \\bh(0, \\w) &= \n",
    "    \\frac{1}{\\gm \\left(H+ \\frac{1}{2}\\right)} \\left\\{\\fbminta + \\fbmintb \\right\\}\n",
    "\\end{align}\n",
    "$$\n",
    "\n",
    "Note that when $H=1/2$, $\\gm (H+1/2)=\\gm(1)=1$ and the exponent terms in the integrals are zero, which means that the first integral term zeros out, so that the difference is simply the white noise measure $B(t, \\w)$."
   ]
  },
  {
   "cell_type": "markdown",
   "metadata": {},
   "source": [
    "The above definiton of Fractional Brownian Motion is not necessarily intuitive, and for the purpose of this writing it is more productive to simulate examples with different values of $H$.  \n",
    "\n",
    "First, we import some local modules and other items needed for the interactive plot:"
   ]
  },
  {
   "cell_type": "code",
   "execution_count": 15,
   "metadata": {},
   "outputs": [],
   "source": [
    "from src import helpers \n",
    "from src import fbm_plot\n",
    "import ipywidgets as widgets\n",
    "from ipywidgets import interact, interact_manual\n",
    "from warnings import warn\n",
    "interact_hurst = lambda button_lab : interact.options(manual=True, \n",
    "                                                      manual_name=button_lab)"
   ]
  },
  {
   "cell_type": "markdown",
   "metadata": {},
   "source": [
    "...note that the code which generates these series is in the folder `src`. The docstring can be viewed by running `?fbm_plot.plot_fbm_examples`. \n",
    "\n",
    "After running the below cell, it is possible to plot different realizations of Fractional Brownian Motion by clicking \"Calculate\":"
   ]
  },
  {
   "cell_type": "code",
   "execution_count": 16,
   "metadata": {},
   "outputs": [
    {
     "data": {
      "application/vnd.jupyter.widget-view+json": {
       "model_id": "20fd3a3fdb59451287f36b9211ea65d7",
       "version_major": 2,
       "version_minor": 0
      },
      "text/plain": [
       "interactive(children=(Text(value='0.5', description='h1'), Text(value='0.75', description='h2'), Text(value='0…"
      ]
     },
     "metadata": {},
     "output_type": "display_data"
    }
   ],
   "source": [
    "@interact_hurst('Calculate')\n",
    "def interactive_fbm_plot(h1='0.5', h2='0.75', h3='0.25'):\n",
    "    \"\"\"Takes input in interact decorator and creates fbm plots\"\"\"\n",
    "    if any([x == '' for x in (h1, h2, h3)]):\n",
    "        fbm_plot.plot_fbm_examples()\n",
    "    else:\n",
    "        try:\n",
    "            p = []\n",
    "            for x in (h1, h2, h3):\n",
    "                p.append(float(x))\n",
    "            p = tuple(p)\n",
    "        except Exception as e:\n",
    "            msg = (f'Error when trying to convert hurst params to float, '\n",
    "                   f'is it numeric? Received \"{(h1, h2, h3)}\".') \n",
    "            warn(msg)\n",
    "            raise Exception(msg)\n",
    "        if any([x <= 0 or x >= 1 for x in p]):\n",
    "            msg = f'Hurst params must be in [0, 1], received \"{p}\".'\n",
    "            warn(msg)\n",
    "            raise Exception(msg)\n",
    "        fbm_plot.plot_fbm_examples(*p)"
   ]
  },
  {
   "cell_type": "markdown",
   "metadata": {},
   "source": [
    "# References\n"
   ]
  },
  {
   "cell_type": "code",
   "execution_count": 17,
   "metadata": {},
   "outputs": [
    {
     "name": "stdout",
     "output_type": "stream",
     "text": [
      "[1] Bachelier, L. (1900) Theory of Speculation. Scientific annals of the École Normale Supérieure, Serie 3, Volume 17, pp. 21-86. https://dx.doi.org/10.24033/asens.476\n",
      "\n",
      "[2] Davies, R., Harte, D. (1987). Tests for Hurst Effect Biometrika  74(1), 95. https://dx.doi.org/10.2307/2336024\n",
      "\n",
      "[3] Graves, T., Gramacy, R. B., Watkins, N. & Franzke, C. (2017). A Brief History of Long Memory: Hurst, Mandelbrot and the Road to ARFIMA, 1951–1980. Entropy. https://dx.doi.org/10.3390/e19090437\n",
      "\n",
      "[4] Graves, T., Gramacy, R., Watkins, N., Franzke, C. (2017). A Brief History of Long Memory: Hurst, Mandelbrot and the Road to ARFIMA, 1951–1980 Entropy https://dx.doi.org/10.3390/e19090437\n",
      "\n",
      "[5] Lacasa, L., Luque, B., Ballesteros, F., Luque, J., Nuño, J. (2008). From time series to complex networks: The visibility graph Proceedings of the National Academy of Sciences  105(13), 4972-4975. https://dx.doi.org/10.1073/pnas.0709247105\n",
      "\n",
      "[6] Lacasa, L., Luque, B., Luque, J., Nuño, J. (2009). The visibility graph: A new method for estimating the Hurst exponent of fractional Brownian motion EPL  86(3), 30001. https://dx.doi.org/10.1209/0295-5075/86/30001\n",
      "\n",
      "[7] Lacasa, L., Nicosia, V., Latora, V. (2015). Network structure of multivariate time series Scientific Reports  5(1), 15508. https://dx.doi.org/10.1038/srep15508\n",
      "\n",
      "[8] Lo, A. (1991). Long-Term Memory in Stock Market Prices Econometrica  59(5), 1279. https://dx.doi.org/10.2307/2938368\n",
      "\n",
      "[9] Mandelbrot, B. B. & Ness, J. W. V. (1968). Fractional Brownian Motions, Fractional Noises and Applications. Siam Rev 10, 422–437. https://epubs.siam.org/doi/10.1137/1010093\n",
      "\n",
      "[10] Tsay, Ruey S. Analysis of Financial Time Series, Third Edition. 3rd ed. Wiley Series in Probability and Statistics. Hoboken, NJ: Wiley, 2010.\n",
      "\n"
     ]
    }
   ],
   "source": [
    "# todo - remove this cell after finalizing references \n",
    "with open('references.txt', 'r') as f:\n",
    "    ref = list(sorted([x for x in f.read().split('\\n') if x]))\n",
    "ref = dict(zip(range(1, len(ref)+1), ref))\n",
    "for k, v in ref.items():\n",
    "    print(f'[{k}] {v}\\n')"
   ]
  },
  {
   "cell_type": "markdown",
   "metadata": {},
   "source": []
  },
  {
   "cell_type": "markdown",
   "metadata": {},
   "source": []
  },
  {
   "cell_type": "markdown",
   "metadata": {},
   "source": []
  },
  {
   "cell_type": "markdown",
   "metadata": {},
   "source": []
  },
  {
   "cell_type": "markdown",
   "metadata": {},
   "source": []
  },
  {
   "cell_type": "markdown",
   "metadata": {},
   "source": []
  },
  {
   "cell_type": "markdown",
   "metadata": {},
   "source": []
  },
  {
   "cell_type": "markdown",
   "metadata": {},
   "source": []
  }
 ],
 "metadata": {
  "kernelspec": {
   "display_name": "Python 3",
   "language": "python",
   "name": "python3"
  },
  "language_info": {
   "codemirror_mode": {
    "name": "ipython",
    "version": 3
   },
   "file_extension": ".py",
   "mimetype": "text/x-python",
   "name": "python",
   "nbconvert_exporter": "python",
   "pygments_lexer": "ipython3",
   "version": "3.8.2"
  },
  "toc": {
   "base_numbering": 1,
   "nav_menu": {},
   "number_sections": true,
   "sideBar": true,
   "skip_h1_title": false,
   "title_cell": "Table of Contents",
   "title_sidebar": "Contents",
   "toc_cell": false,
   "toc_position": {},
   "toc_section_display": true,
   "toc_window_display": false
  }
 },
 "nbformat": 4,
 "nbformat_minor": 4
}
